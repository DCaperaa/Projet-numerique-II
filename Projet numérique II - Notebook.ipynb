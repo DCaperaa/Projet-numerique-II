{
 "cells": [
  {
   "cell_type": "markdown",
   "metadata": {},
   "source": [
    "# Projet numérique : choix du pas de temps.\n",
    "# Camille Klopocki, Damien Capéraa\n",
    "## Pas fixe\n",
    "### Question 1 : schéma d'Euler explicite"
   ]
  },
  {
   "cell_type": "code",
   "execution_count": 6,
   "metadata": {},
   "outputs": [],
   "source": [
    "import math\n",
    "import numpy as np\n",
    "import matplotlib.pyplot as plt"
   ]
  },
  {
   "cell_type": "code",
   "execution_count": 1,
   "metadata": {},
   "outputs": [],
   "source": [
    "def solve_euler_explicit(f, x0, dt, tf, t0=0):\n",
    "    '''Résout l'équation différentielle dx/dt(t) = f(t, x) à l'aide de la\n",
    "    méthode d'Euler explicite. Renvoie les listes temps et solution.'''\n",
    "    T = tf - t0\n",
    "    nbiter = math.floor(T/dt)\n",
    "    temps = [i * dt for i in range(nbiter)]\n",
    "    solution = [x0]\n",
    "    for i in range(1, iter):\n",
    "        solution.append(solution[i-1] + dt * f(i * dt, solution[i-1]))\n",
    "    return temps, solution"
   ]
  },
  {
   "cell_type": "markdown",
   "metadata": {},
   "source": [
    "Nous illustrons la convergence du schéma à l'ordre en résolvant l'équation différentielle canonique $...$"
   ]
  },
  {
   "cell_type": "code",
   "execution_count": 3,
   "metadata": {},
   "outputs": [],
   "source": [
    "def convergence_euler(f, x0, tf, t0=0, nbiter=4):\n",
    "    ''' Pour l'équation différentielle canonique dx/dt = x, trace le log10\n",
    "    du maximum des écarts à la solution réelle en fonction du log10 de dt.\n",
    "    Permet lecture graphique de l'ordre de convergence du schéma d'Euler\n",
    "    explicite. Exécute le schéma d'Euler pour dt allant de 0.1 à \n",
    "    0.1/10^nbiter.'''\n",
    "    dt0 = 0.1\n",
    "    list_dt = [dt0/10^i for i in range(nbiter)]\n",
    "    max_difference = []\n",
    "    for dt in list_dt:\n",
    "        temps, num_solution = solve_euler_explicit(f, x0, dt, tf, t0)\n",
    "        num_solution = np.array(num_solution)\n",
    "        real_solution = np.array([np.exp(t) for t in temps])\n",
    "        difference = abs(num_solution - real_solution)\n",
    "        max_error = max(difference)\n",
    "        max_difference.append(max_error)\n",
    "    log_list_dt = np.log10(list_dt)\n",
    "    log_max_difference = np.log10(max_difference)\n",
    "    plt.plot(log_list_dt, log_max_difference)\n",
    "    plt.show()\n",
    "\n",
    "f = lambda t, x : x\n",
    "convergence_euler(f, 1, 10)"
   ]
  },
  {
   "cell_type": "markdown",
   "metadata": {},
   "source": [
    "### Question 2 : schéma de Runge-Kutta à l'ordre 2"
   ]
  },
  {
   "cell_type": "code",
   "execution_count": 5,
   "metadata": {},
   "outputs": [],
   "source": [
    "def solve_runge_kutta_ordre_2(f, x0, dt, tf, t0=0):\n",
    "    ''''Résout l'équation différentielle dx/dt(t) = f(t, x) à l'aide de la\n",
    "    méthode de Rune_Kutta à l'ordre 2. Renvoie les listes temps et solution.'''\n",
    "    T = tf - t0\n",
    "    iter = math.floor(T/dt)\n",
    "    temps = [i * dt for i in range(iter)]\n",
    "    solution = [x0]\n",
    "    for i in range(1, iter):\n",
    "        F1 = f(i * dt, solution[i-1])\n",
    "        F2 = f((i+1) * dt, solution[i-1] + dt * F1)\n",
    "        solution.append(solution[i-1] + dt/2 * (F1 + F2))\n",
    "    return temps, solution"
   ]
  },
  {
   "cell_type": "code",
   "execution_count": 4,
   "metadata": {},
   "outputs": [],
   "source": [
    "def convergence_runge_kutta(f, x0, tf, t0=0, nbiter=4):\n",
    "    ''' Pour l'équation différentielle canonique dx/dt = x, trace le log10\n",
    "    du maximum des écarts à la solution réelle en fonction du log10 de dt.\n",
    "    Permet lecture graphique de l'ordre de convergence du schéma de \n",
    "    Runge-Kutta. Exécute le schéma de Runge-Kutta pour dt allant de 0.1 à \n",
    "    0.1/10^nbiter.'''\n",
    "    dt0 = 0.1\n",
    "    list_dt = [dt0/10^i for i in range(nbiter)]\n",
    "    max_difference = []\n",
    "    for dt in list_dt:\n",
    "        temps, num_solution = solve_runge_kutta_ordre_2(f, x0, dt, tf, t0)\n",
    "        num_solution = np.array(num_solution)\n",
    "        real_solution = np.array([np.exp(t) for t in temps])\n",
    "        difference = abs(num_solution - real_solution)\n",
    "        max_error = max(difference)\n",
    "        max_difference.append(max_error)\n",
    "    log_list_dt = np.log10(list_dt)\n",
    "    log_max_difference = np.log10(max_difference)\n",
    "    plt.plot(log_list_dt, log_max_difference)\n",
    "    plt.show()"
   ]
  },
  {
   "cell_type": "markdown",
   "metadata": {},
   "source": [
    "## Adaptation du pas de temps"
   ]
  },
  {
   "cell_type": "code",
   "execution_count": null,
   "metadata": {},
   "outputs": [],
   "source": []
  }
 ],
 "metadata": {
  "kernelspec": {
   "display_name": "Python 3",
   "language": "python",
   "name": "python3"
  },
  "language_info": {
   "codemirror_mode": {
    "name": "ipython",
    "version": 3
   },
   "file_extension": ".py",
   "mimetype": "text/x-python",
   "name": "python",
   "nbconvert_exporter": "python",
   "pygments_lexer": "ipython3",
   "version": "3.7.4"
  }
 },
 "nbformat": 4,
 "nbformat_minor": 2
}
