{
 "cells": [
  {
   "cell_type": "markdown",
   "metadata": {},
   "source": [
    "# Projet numérique : choix du pas de temps\n",
    "# Camille Klopocki, Damien Capéraa\n",
    "## Pas fixe\n",
    "### Question 1 : schéma d'Euler explicite"
   ]
  },
  {
   "cell_type": "code",
   "execution_count": null,
   "metadata": {},
   "outputs": [],
   "source": [
    "import math\n",
    "import numpy as np\n",
    "import matplotlib.pyplot as plt"
   ]
  },
  {
   "cell_type": "code",
   "execution_count": null,
   "metadata": {},
   "outputs": [],
   "source": [
    "def solve_euler_explicit(f, x0, dt, tf, t0=0):\n",
    "    '''Résout l'équation différentielle dx/dt(t) = f(t, x) à l'aide de la\n",
    "    méthode d'Euler explicite. Renvoie les listes temps et solution.'''\n",
    "    T = tf - t0\n",
    "    nbiter = math.floor(T/dt)\n",
    "    temps = [i * dt for i in range(nbiter)]\n",
    "    solution = [x0]\n",
    "    for i in range(1, nbiter):\n",
    "        solution.append(solution[i-1] + dt * f(i * dt, solution[i-1]))\n",
    "    return temps, solution"
   ]
  },
  {
   "cell_type": "markdown",
   "metadata": {},
   "source": [
    "Nous illustrons la convergence du schéma à l'ordre 1 en résolvant l'équation différentielle canonique $\\dot x(t) = x(t) \\;\\; \\forall t \\in \\left[t_{0}, t_{f}\\right]$. La solution réelle est la fonction exponentielle. \\\n",
    "Afin d'exhiber l'ordre d'un schéma, nous utilisons dans cette question et la suivante un affichage du logarithme en base 10 (ln en maths) du maximum des écarts de la solution numérique à la solution réelle en fonction de ln(dt), pour un dt décroissant. Nous obtenons une droite de pente l'ordre du schéma. \\\n",
    "$$\\smash{\\displaystyle\\max_{0 \\leqslant j \\leqslant J}} \\left\\|x^{j} - x(t_{j})\\right\\| \\leq c_{v}(\\Delta t)^{p} \\; \\Rightarrow \\; \\ln\\Big(\\smash{\\displaystyle\\max_{0 \\leqslant j \\leqslant J}} \\left\\|x^{j} - x(t_{j})\\right\\|\\Big) \\leq \\ln(c_{v}) + pln(\\Delta t)$$"
   ]
  },
  {
   "cell_type": "code",
   "execution_count": null,
   "metadata": {},
   "outputs": [],
   "source": [
    "def convergence_euler(f, x0, tf, t0=0, nbiter=4):\n",
    "    ''' Pour l'équation différentielle canonique dx/dt = x, retourne le log10\n",
    "    du maximum des écarts à la solution réelle en fonction du log10 de dt.\n",
    "    Permet une lecture graphique de l'ordre de convergence du schéma d'Euler\n",
    "    explicite. Exécute le schéma d'Euler pour dt allant de 0.1 à\n",
    "    0.1/10**nbiter.'''\n",
    "    dt0 = 0.1 # initial value of dt\n",
    "    list_dt = [dt0/(10**i) for i in range(nbiter)] # all tested dt\n",
    "    max_difference = []\n",
    "    for dt in list_dt:\n",
    "        temps, num_solution = solve_euler_explicit(f, x0, dt, tf, t0)\n",
    "        num_solution = np.array(num_solution)\n",
    "        real_solution = np.array([np.exp(t) for t in temps])\n",
    "        difference = abs(num_solution - real_solution)\n",
    "        max_error = max(difference)\n",
    "        max_difference.append(max_error)\n",
    "    log_list_dt = np.log10(list_dt)\n",
    "    log_max_difference = np.log10(max_difference)\n",
    "    return log_list_dt, log_max_difference"
   ]
  },
  {
   "cell_type": "code",
   "execution_count": null,
   "metadata": {},
   "outputs": [],
   "source": [
    "#Illustration des performances et détermination de l'ordre de convergence avec la fonction exponentielle.\n",
    "f = lambda t, x : x\n",
    "time, num_solution_euler = solve_euler_explicit(f, 1, 0.01, 10)\n",
    "Y = np.exp(time)\n",
    "Z = [y - x for y, x in zip(Y, num_solution_euler)]\n",
    "\n",
    "fig, (ax1, ax2) = plt.subplots(1, 2, figsize = (15, 6))\n",
    "log_list_dt, log_max_difference_euler = convergence_euler(f, 1, 10)\n",
    "ax1.plot(time, num_solution_euler, label = 'solution numérique Euler explicite')\n",
    "ax1.plot(time, Y, label = 'fonction exponentielle')\n",
    "ax1.set_xlabel(\"temps\")\n",
    "ax1.set_title(\"Illustration des performances du solver Euler explicite\")\n",
    "ax1.legend()\n",
    "ax3 = ax1.twinx()\n",
    "ax3.plot(time, Z, color='tab:green')\n",
    "ax3.set_ylabel('difference', color='tab:green')\n",
    "ax3.set_ylim(-70, 1400)\n",
    "\n",
    "ax2.plot(log_list_dt, log_max_difference_euler)\n",
    "ax2.set_title(\"Illustration de la convergence à l'ordre 1 du schéma \\nd'Euler explicite\")\n",
    "ax2.set(xlabel = 'log10(dt), avec dt le pas de résolution', ylabel = 'log10(max écarts à la solution réelle)')\n",
    "ax2.grid(True)\n",
    "\n",
    "fig.tight_layout()\n",
    "plt.show()"
   ]
  },
  {
   "cell_type": "markdown",
   "metadata": {},
   "source": [
    "La pente sur la figure de droite vaut bien 1, confirmant ainsi l'ordre 1 du schéma d'Euler explicite. Sur la figure de gauche, les courbes de la solution réelle et de la solution numérique se confondent plutôt bien. Cependant, la différence entre les deux solutions vaut environ $1000$ à $t=10s$, soit une erreur relative de $5\\%$, ce qui reste améliorable.\\\n",
    "Nous ajoutons une deuxième illustration à ce schéma en vue d'une comparaison supplémentaire pour la question 5. Nous prenons l'équation différentielle $\\ddot x(t) = -x(t) \\;\\; \\forall t \\in \\left[t_{0}, t_{f}\\right]$, dont la solution réelle est la fonction cosinus."
   ]
  },
  {
   "cell_type": "code",
   "execution_count": null,
   "metadata": {},
   "outputs": [],
   "source": [
    "#Illustration des performances avec la fonction cosinus.\n",
    "def g(t, X) :\n",
    "    x, y = X[0], X[1]\n",
    "    return np.array([y, -x])\n",
    "\n",
    "time, num_solution_runge = solve_euler_explicit(g, np.array([1, 0]), 0.01, 10*np.pi)\n",
    "x_new = [x[0] for x in num_solution_runge]\n",
    "Y = np.cos(time)\n",
    "Z = [y - z for y, z in zip(Y, x_new)]\n",
    "\n",
    "fig, ax1 = plt.subplots(figsize=(15, 6))\n",
    "ax1.plot(time, x_new, label = 'solution numérique Euler pas fixe')\n",
    "ax1.plot(time, Y, label = 'fonction cosinus')\n",
    "ax1.set_xlabel(\"temps\")\n",
    "ax1.set_title(\"Illustration des performances du solver Euler explicite\")\n",
    "ax1.legend()\n",
    "ax2 = ax1.twinx()\n",
    "ax2.plot(time, Z, color='tab:green')\n",
    "ax2.set_ylabel('difference', color='tab:green')\n",
    "\n",
    "ax1.grid(True)\n",
    "plt.show()"
   ]
  },
  {
   "cell_type": "markdown",
   "metadata": {},
   "source": [
    "Nous observons une différence plus importante sur cet exemple, les courbes ne se confondent pas aussi bien. Notons ici, pour la question 5, une erreur de $0.15$ à $t=32s$."
   ]
  },
  {
   "cell_type": "markdown",
   "metadata": {},
   "source": [
    "### Question 2 : schéma de Runge-Kutta à l'ordre 2\n",
    "Pour cette question, nous avons choisi le schéma de Runge-Kutta à l'ordre 2. Nous comparons l'ordre de convergence avec le schéma d'Euler explicite sur l'équation différentielle canonique $\\dot x(t) = x(t) \\;\\; \\forall t \\in \\left[t_{0}, t_{f}\\right]$."
   ]
  },
  {
   "cell_type": "code",
   "execution_count": null,
   "metadata": {},
   "outputs": [],
   "source": [
    "def solve_runge_kutta_ordre_2(f, x0, dt, tf, t0=0):\n",
    "    ''''Résout l'équation différentielle dx/dt(t) = f(t, x) à l'aide de la\n",
    "    méthode de Runge_Kutta à l'ordre 2. Renvoie les listes temps et solution.'''\n",
    "    T = tf - t0\n",
    "    nbiter = math.floor(T/dt)\n",
    "    temps = [i * dt for i in range(nbiter)]\n",
    "    solution = [x0]\n",
    "    for i in range(1, nbiter):\n",
    "        F1 = f(i * dt, solution[i-1])\n",
    "        F2 = f((i+1) * dt, solution[i-1] + dt * F1)\n",
    "        solution.append(solution[i-1] + dt/2 * (F1 + F2))\n",
    "    return temps, solution"
   ]
  },
  {
   "cell_type": "code",
   "execution_count": null,
   "metadata": {},
   "outputs": [],
   "source": [
    "def convergence_runge_kutta(f, x0, tf, t0=0, nbiter=4):\n",
    "    ''' Pour l'équation différentielle canonique dx/dt = x, retourne le log10\n",
    "    du maximum des écarts à la solution réelle en fonction du log10 de dt.\n",
    "    Permet une lecture graphique de l'ordre de convergence du schéma de\n",
    "    Runge-Kutta. Exécute le schéma de Runge-Kutta pour dt allant de 0.1 à\n",
    "    0.1/10**nbiter.'''\n",
    "    dt0 = 0.1 # initial value of dt\n",
    "    list_dt = [dt0/10**i for i in range(nbiter)] # all tested dt\n",
    "    max_difference = []\n",
    "    for dt in list_dt:\n",
    "        temps, num_solution = solve_runge_kutta_ordre_2(f, x0, dt, tf, t0)\n",
    "        num_solution = np.array(num_solution)\n",
    "        real_solution = np.array([np.exp(t) for t in temps])\n",
    "        difference = abs(num_solution - real_solution)\n",
    "        max_error = max(difference)\n",
    "        max_difference.append(max_error)\n",
    "    log_list_dt = np.log10(list_dt)\n",
    "    log_max_difference = np.log10(max_difference)\n",
    "    return log_list_dt, log_max_difference"
   ]
  },
  {
   "cell_type": "code",
   "execution_count": null,
   "metadata": {},
   "outputs": [],
   "source": [
    "time, num_solution_runge = solve_runge_kutta_ordre_2(f, 1, 0.01, 10)\n",
    "Y = np.exp(time)\n",
    "Z = [y - x for y, x in zip(Y, num_solution_runge)]\n",
    "fig, (ax1, ax2) = plt.subplots(1, 2, figsize = (15, 6))\n",
    "log_list_dt, log_max_difference_runge = convergence_runge_kutta(f, 1, 10)\n",
    "\n",
    "ax1.plot(time, num_solution_runge, label = 'solution numérique Runge-Kutta')\n",
    "ax1.plot(time, Y, label = 'fonction exponentielle')\n",
    "ax1.set_xlabel(\"temps\")\n",
    "ax1.set_title(\"Illustration des performances du solver Runge-Kutta (ordre 2)\")\n",
    "ax1.legend()\n",
    "ax3 = ax1.twinx()\n",
    "ax3.plot(time, Z, color='tab:green', linewidth=2)\n",
    "ax3.set_ylabel('difference', color='tab:green')\n",
    "ax3.set_ylim(-0.2, 5)\n",
    "\n",
    "ax2.plot(log_list_dt, log_max_difference_euler, label = \"schéma d'Euler (ordre 1)\")\n",
    "ax2.plot(log_list_dt, log_max_difference_runge, label = 'schéma de Runge-Kutta (ordre 2)')\n",
    "ax2.set_title(\"Comparaison des ordres de convergence de deux schémas\")\n",
    "ax2.set(xlabel = 'log10(dt), avec dt le pas de résolution', ylabel = \\\n",
    "    'log10(max écarts à la solution réelle)')\n",
    "ax2.legend()\n",
    "ax2.grid(True)\n",
    "\n",
    "fig.tight_layout()\n",
    "plt.show()"
   ]
  },
  {
   "cell_type": "markdown",
   "metadata": {},
   "source": [
    "Sur la figure de droite, on remarque bien la différence d'ordre entre les deux méthode : Euler explicite donne une pente de 1, tandis que Runge-Kutta donne une pente de 2.\n",
    "Bien que la solution numérique et la solution réelle semblent parfaitement confondues sur la figure de gauche, la difference augmente en réalité lorsque t augmente. Cette erreur est cependant plus faible qu'avec la méthode d'Euler explicite, ce qui est cohérent avec les ordres des schémas : un schéma d'ordre plus grand permet une approximation plus fine."
   ]
  },
  {
   "cell_type": "markdown",
   "metadata": {},
   "source": [
    "## Adaptation du pas de temps\n",
    "### Question 3 : calcul de $\\left\\| e^{j+1} \\right\\|$ pour un schéma d'Euler explicite avec $f \\;\\mathcal{C}^{1}$"
   ]
  },
  {
   "cell_type": "markdown",
   "metadata": {},
   "source": [
    "On a :\n",
    "$$\n",
    "\\begin{align}\n",
    "    e^{j+1} &= \\bigg(x^j+\\int_{t_{j}}^{t_{j+1}} f(s, x(s) ) ds\\bigg)-\\big(x^j+\\Delta t_{j}f(t_{j},x^j)\\big) \\\\\n",
    "    &= \\int_{t_{j}}^{t_{j+1}} f(s, x(s)) ds - \\Delta t_{j}f(t_{j},x^j) \n",
    "\\end{align}$$\n",
    "            \n",
    "On pose :\n",
    "$$\\begin{array}{ccccc}\n",
    "g & : & \\mathbb{R} & \\to & \\mathbb{R} \\\\\n",
    " & & t & \\mapsto & \\int_{t_{j}}^{t_{j+1}} f(s, x(s)) ds\\\\\n",
    "\\end{array} $$\n",
    "\n",
    "Ainsi :\n",
    "$$ e^{j+1} = g(t_{j+1}) - \\Delta t_{j}f(t_{j},x^j) $$\n",
    "\n",
    "Or par la formule de Taylor : \n",
    "$$ g(t_{j+1}) = g(t_{j} + \\Delta t_{j}) = g(t_{j}) + \\Delta t_{j} g'(t_{j}) +\\frac{\\Delta t_{j}^2}{2} g''(t_{j}) + O(\\Delta t_{j}^3)$$\\\n",
    "\\\n",
    "Puis puisque le $x$ dans l'intégrale est la solution vraie initialisée à $x^j$ en $t_{j}$ : \\\n",
    "$$ \n",
    "\\begin{align}\n",
    "    g(t_{j+1}) &= \\Delta t_{j} f(t_{j}, x^j) + \\frac{\\Delta t_{j}^2}{2} \\bigg(\\frac{\\partial f}{\\partial t}(t_{j}, x^j) + \\frac {\\partial f}{\\partial x}(t_{j}, x^j)  \\frac {dx}{dt}(t_{j})\\bigg) + O(\\Delta t_{j}^3)\\\\ \n",
    "    &= \\Delta t_{j} f(t_{j}, x^j) + \\frac{\\Delta t_{j}^2}{2} \\bigg(\\partial_{t} f(t_{j}, x^j) + \\partial_{x} f(t_{j}, x^j) f_{x}(t_{j}, x^j)\\bigg) + O(\\Delta t_{j}^3) \n",
    "\\end{align}$$ \\\n",
    "\\\n",
    "On pose : $$ M_{j} = \\partial_{t}f(t_{j}, x^j) + \\partial_{x}f(t_{j}, x^j) f(t_{j}, x^j) $$ \\\n",
    "Ainsi : $$ g(t_{j+1}) = \\Delta t_{j} f(t_{j}, x^j) + \\frac{\\Delta t_{j}^2}{2} M_{j} + O(\\Delta t_{j}^3)$$ \\\n",
    "\\\n",
    "Or : $$ \n",
    "\\begin{align}\n",
    "    f(t_{j+1}, x^{j+1}) &= f(t_{j}, x^j) + \\big(\\partial_{t}f(t_{j}, x^j),\\, \\partial_{x}f(t_{j}, x^j)\\big) . \\begin{pmatrix}\n",
    "\\Delta t_{j} \\\\[1mm]\n",
    "\\Delta t_{j}f(t_{j}, x^j) \\\\\n",
    "\\end{pmatrix} + O(\\Delta t_{j}^2)\\\\\n",
    "&= f(t_{j}, x^j) + \\partial_{t}f(t_{j}, x^j) \\Delta t_{j} + \\partial_{x} f(t_{j}, x^j) \\Delta t_{j} f(t_{j}, x^j) + O(\\Delta t_{j}^2)\\\\\n",
    "&= f(t_{j}, x^j) + \\Delta t_{j} M_{j} + O(\\Delta t_{j}^2)\n",
    "\\end{align}$$ \\\n",
    "Ainsi : $$ M_{j} = \\frac{f(t_{j+1}, x^{j+1}) - f(t_{j}, x^j)}{\\Delta t_{j}} + O(\\Delta t_{j})$$ \\\n",
    "\\\n",
    "On trouve donc : $$ \n",
    "\\begin{align}\n",
    "e^{j+1} &= \\Delta t_{j} f(t_{j}, x^j) + \\frac{\\Delta t_{j}^2}{2} \\bigg(\\frac{f(t_{j+1}, x^{j+1}) - f(t_{j}, x^j)}{\\Delta t_{j}} + O(\\Delta t_{j})\\bigg) + O(\\Delta t_{j}^3) - \\Delta t_{j} f(t_{j}, x^j) \\\\\n",
    "&= \\frac{\\Delta t_{j}}{2} \\big(f(t_{j+1}, x^{j+1}) - f(t_{j}, x^j)\\big) + O(\\Delta t_{j}^3) \n",
    "\\end{align}$$\\\n",
    "Finalement :$$ \\boxed{\\left\\| e^{j+1} \\right\\| = \\frac{\\Delta t_{j}}{2} \\left\\|f(t_{j+1}, x^{j+1}) - f(t_{j}, x^j)\\right\\| + O(\\Delta t_{j}^3)} $$\n"
   ]
  },
  {
   "cell_type": "markdown",
   "metadata": {},
   "source": [
    "### Question 4 : adaptation du pas de temps"
   ]
  },
  {
   "cell_type": "markdown",
   "metadata": {},
   "source": [
    "On a directement dans le calcul précédent que\n",
    "$$\\left\\|e^{j+1}\\right\\| = \\frac{\\Delta t^{2}}{2}M_{j} + O(\\Delta t^{3}) \\;\\; \\Rightarrow \\;\\; \\boxed{\\left\\|e^{j+1}\\right\\| = O(\\Delta t^{2})}$$\n",
    "car $M_{j}$ ne dépend pas de $\\Delta t$.\n",
    "Comme $\\Delta t$ est petit, on peut approximer $\\left\\|e^{j+1}\\right\\|$ comme étant une fonction de $\\Delta t^{2}$. Sachant que l'on veut avoir $\\left\\|e^{j+1}\\right\\| = Tol_{abs}$, il faut prendre un nouveau pas $\\Delta t_{new}$ vérifiant :\n",
    "$$\\Delta t_{new}^{2} = \\Delta t_{j}^{2} \\, \\frac{Tol_{abs}}{\\left\\|e^{j+1}\\right\\|} \\;\\; \\Rightarrow \\;\\; \\boxed{\\Delta t_{new} = \\Delta t_{j} \\, \\sqrt{\\frac{Tol_{abs}}{\\left\\|e^{j+1}\\right\\|}}}$$"
   ]
  },
  {
   "cell_type": "markdown",
   "metadata": {},
   "source": [
    "### Question 5 : solveur `solve_euler_explicit_variable_step`\n",
    "Afin d'illustrer le fonctionnement de ce solveur, nous avons ajouté quelques commandes permettant de stocker les valeurs de l'erreur et de dt pour chaque itération."
   ]
  },
  {
   "cell_type": "code",
   "execution_count": null,
   "metadata": {},
   "outputs": [],
   "source": [
    "def solve_ivp_euler_explicit_variable_step(f, t0, x0, t_f, dtmin=1e-16, dtmax=0.01, atol=1e-6):\n",
    "    dt = dtmax/10 # initial integration step\n",
    "    list_dt, list_errors = [], []\n",
    "    ts, xs = [t0], [x0]  # storage variables\n",
    "    t = t0  \n",
    "    ti = 0  # internal time keeping track of time since latest storage point : must remain below dtmax\n",
    "    x = x0\n",
    "    while ts[-1] < t_f:\n",
    "        while ti < dtmax:\n",
    "            t_next, ti_next, x_next = t + dt, ti + dt, x + dt * f(x)\n",
    "            x_back = x_next - dt * f(x_next)\n",
    "            ratio_abs_error = atol / (np.linalg.norm(x_back-x)/2)\n",
    "            dt = 0.9 * dt * math.sqrt(ratio_abs_error)\n",
    "            if dt < dtmin:\n",
    "                raise ValueError(\"Time step below minimum\")\n",
    "            elif dt > dtmax/2:\n",
    "                dt = dtmax/2\n",
    "            list_errors.append(ratio_abs_error)\n",
    "            list_dt.append(dt)\n",
    "            t, ti, x = t_next, ti_next, x_next\n",
    "        dt2DT = dtmax - ti # time left to dtmax\n",
    "        t_next, ti_next, x_next = t + dt2DT, 0, x + dt2DT * f(x)\n",
    "        ts.append(t_next)\n",
    "        xs.append(x_next)\n",
    "        t, ti, x = t_next, ti_next, x_next\n",
    "    return ts, xs, list_dt, list_errors"
   ]
  },
  {
   "cell_type": "markdown",
   "metadata": {},
   "source": [
    "Ce solveur permet une résolution numérique de l'équation différentielle $\\dot x(t) = f(x(t)) \\;\\; \\forall t \\in \\left[t_{0}, t_{f}\\right]$ avec un pas de temps qui varie selon que l'erreur estimée à chaque itération est plus grande ou plus petite qu'une tolérance fixée à $atol$. Notons qu'ici t n'est plus une variable de f.\n",
    "* $t_{i}$ permet de stocker la valeur de x dans xs avec un pas d'exactement $dt_{max}$. Ce solveur renvoie donc une solution échantillonnée à exactement $dt_{max}$.\n",
    "* Pour faire le parallèle avec la question 3 :\n",
    "    - $atol = Tol_{abs}$\n",
    "    - $dt = \\Delta t_{j}$\n",
    "    - $x = x^{j}$\n",
    "    - $x_{next} = x^{j+1}$ : application d'Euler explicite avec un pas dt.\n",
    "    - $x_{back}$ vérifie $x_{next} = x_{back} + dtf(x_{next})$ et on a donc $\\left\\| x - x_{back} \\right\\| = dt \\left\\|f(x_{next}) - f(x)\\right\\| = dt\\left\\|f(x^{j+1}) - f(x^{j})\\right\\|$.\n",
    "* On en déduit, avec la question 4 :\n",
    "    - $ratio\\_abs\\_error = \\frac{atol}{dt\\frac{\\left\\|f(x_{next}) - f(x)\\right\\|}{2}} = \\frac{Tol_{abs}}{\\left\\|e^{j+1}\\right\\|} = \\Big(\\frac{\\Delta t_{new}}{\\Delta t_j}\\Big)^2$\n",
    "    - Le solveur définit ainsi un nouveau `dt`, en ajoutant un facteur $0.9$ comme marge de sécurité : `dt = 0.9 * dt * sqrt(ratio_abs_error)`.\n",
    "    - Le solveur vérifie que le nouveau `dt` se trouve bien dans $\\left[dt_{min}, \\frac{dt_{max}}{2}\\right]$, avec une marge de sécurité sur la borne supérieure (permettant d'avoir au moins 2 itérations avant le stockage de la prochaine valeur). S'il est trop petit, une erreur est levée. S'il est trop grand, il est ramené à $\\frac{dt_{max}}{2}$.\\\n",
    "\\\n",
    "Afin d'illustrer le fonctionnement de ce solveur, nous affichons l'évolution en fonction des itérations du pas dt et de l'erreur commise à chaque itération."
   ]
  },
  {
   "cell_type": "code",
   "execution_count": null,
   "metadata": {},
   "outputs": [],
   "source": [
    "h = lambda x : x   # f ne dépendant pas de t\n",
    "fig, ax1 = plt.subplots(figsize = (8, 6))\n",
    "t, x, list_dt, list_errors = solve_ivp_euler_explicit_variable_step(h, 0, 1, 10)\n",
    "\n",
    "Y = np.exp(t)\n",
    "Z = [y - x for y, x in zip(Y, x)]\n",
    "ax1.plot(t, x, label = \"solution numérique\")\n",
    "ax1.plot(t, Y, label = \"fonction exponentielle\")\n",
    "ax1.set_xlabel(\"temps\")\n",
    "ax1.legend()\n",
    "ax1.set_title(\"Performances du solveur Euler explicite à pas variable\")\n",
    "ax3 = ax1.twinx()\n",
    "ax3.plot(t, Z, color='tab:green')\n",
    "ax3.set_ylabel('difference', color='tab:green')\n",
    "ax3.set_ylim(-2.4, 50)\n",
    "\n",
    "plt.show()"
   ]
  },
  {
   "cell_type": "markdown",
   "metadata": {},
   "source": [
    "Le graphe de gauche donne une différence de $30$ à $t=10s$, à comparer avec la différence $33$ fois plus élevée observée pour l'exponentielle dans la question 1 (erreur d'environ $1000$). Ainsi, La méthode à pas variable est plus précise que la méthode à pas fixe (avec $dtmax = 0.01$, égale au $dt$ fixe choisi en question 1). \\\n",
    "N.B.: Cette méthode à pas variable présente cependant une erreur supérieure à celle observée avec le schéma Runge-Kutta d'ordre 2 ($30$ contre $3.5$).\\"
   ]
  },
  {
   "cell_type": "markdown",
   "metadata": {},
   "source": [
    "Vérifions ce constat avec la fonction périodique cosinus."
   ]
  },
  {
   "cell_type": "code",
   "execution_count": null,
   "metadata": {},
   "outputs": [],
   "source": [
    "def w(X):\n",
    "    x, y = X[0], X[1]\n",
    "    return np.array([y, -x])\n",
    "fig, ax1 = plt.subplots(figsize = (15, 6))\n",
    "t, x, list_dt1, list_errors1 = solve_ivp_euler_explicit_variable_step(w, 0, np.array([1, 0]), 10*np.pi)\n",
    "\n",
    "x_new = [z[0] for z in x]\n",
    "Y = np.cos(t)\n",
    "Z = [y - z for y, z in zip(Y, x_new)]\n",
    "ax1.plot(t, x_new, label = \"solution numérique Euler pas variable\")\n",
    "ax1.plot(t, Y, label = \"fonction cosinus\")\n",
    "ax1.set_xlabel(\"temps\")\n",
    "ax1.legend()\n",
    "ax1.grid(True)\n",
    "ax1.set_title(\"Performances du solveur Euler explicite à pas variable\")\n",
    "ax3 = ax1.twinx()\n",
    "ax3.plot(t, Z, color='tab:green')\n",
    "ax3.set_ylabel('difference', color='tab:green')"
   ]
  },
  {
   "cell_type": "markdown",
   "metadata": {},
   "source": [
    "La méthode à pas fixe avec $dt=0.01$ (cf Question 1) donne une différence au bout d'un temps $t=32s$ 10 fois plus élevée qu'avec la méthode à pas variable où $dtmax = 0.01$ (0.15 contre 0.015). Ainsi, l'efficacité de la méthode à pas varible est validée. \\\n",
    "\\\n",
    "*Approfondissement*\\\n",
    "Pour illustrer le fonctionnement de ce solveur, nous avons également eu l'idée de comparer l'évolution du pas `dt` et du `ratio_abs_error` au fil des itérations. "
   ]
  },
  {
   "cell_type": "code",
   "execution_count": null,
   "metadata": {},
   "outputs": [],
   "source": [
    "fig, ax2 = plt.subplots(figsize = (8, 6))\n",
    "color = 'tab:blue'\n",
    "ax2.set_xlabel('itérations')\n",
    "ax2.set_ylabel('ratio_abs_error', color=color)\n",
    "ax2.set_title(\"Evolution du pas et des erreurs commises à chaque itération\")\n",
    "ax2.plot(list_errors[1:], color=color)\n",
    "\n",
    "color = 'tab:red'\n",
    "ax4 = ax2.twinx()\n",
    "ax4.plot(list_dt, color=color, linewidth=2.0)\n",
    "ax4.set_ylabel('dt', color=color)\n",
    "\n",
    "plt.show()"
   ]
  },
  {
   "cell_type": "markdown",
   "metadata": {},
   "source": [
    "Nous n'arrivons pas à interpréter convenablement ce graphe. En effet, il nous semble que `dt` devrait augmenter lorsque l'erreur commise à chaque itération diminue, c'est-à-dire lorsque `ratio_abs_error` aumgmente. Ce graphe nous montre l'inverse."
   ]
  }
 ],
 "metadata": {
  "kernelspec": {
   "display_name": "Python 3",
   "language": "python",
   "name": "python3"
  },
  "language_info": {
   "codemirror_mode": {
    "name": "ipython",
    "version": 3
   },
   "file_extension": ".py",
   "mimetype": "text/x-python",
   "name": "python",
   "nbconvert_exporter": "python",
   "pygments_lexer": "ipython3",
   "version": "3.7.4"
  }
 },
 "nbformat": 4,
 "nbformat_minor": 2
}
